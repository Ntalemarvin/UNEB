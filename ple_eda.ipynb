{
 "cells": [
  {
   "cell_type": "code",
   "execution_count": 2,
   "id": "751d6d9c",
   "metadata": {},
   "outputs": [],
   "source": [
    "import pandas as pd\n",
    "import numpy as np"
   ]
  },
  {
   "cell_type": "code",
   "execution_count": 4,
   "id": "bbb2e7c0",
   "metadata": {},
   "outputs": [
    {
     "data": {
      "text/html": [
       "<div>\n",
       "<style scoped>\n",
       "    .dataframe tbody tr th:only-of-type {\n",
       "        vertical-align: middle;\n",
       "    }\n",
       "\n",
       "    .dataframe tbody tr th {\n",
       "        vertical-align: top;\n",
       "    }\n",
       "\n",
       "    .dataframe thead th {\n",
       "        text-align: right;\n",
       "    }\n",
       "</style>\n",
       "<table border=\"1\" class=\"dataframe\">\n",
       "  <thead>\n",
       "    <tr style=\"text-align: right;\">\n",
       "      <th></th>\n",
       "      <th>School</th>\n",
       "      <th>District</th>\n",
       "      <th>Division1</th>\n",
       "      <th>Pupils</th>\n",
       "    </tr>\n",
       "  </thead>\n",
       "  <tbody>\n",
       "    <tr>\n",
       "      <th>0</th>\n",
       "      <td>Aywee Primary School</td>\n",
       "      <td>Abim</td>\n",
       "      <td>1</td>\n",
       "      <td>36</td>\n",
       "    </tr>\n",
       "    <tr>\n",
       "      <th>1</th>\n",
       "      <td>Awach P.7 School</td>\n",
       "      <td>Abim</td>\n",
       "      <td>2</td>\n",
       "      <td>52</td>\n",
       "    </tr>\n",
       "    <tr>\n",
       "      <th>2</th>\n",
       "      <td>Biyaya Primary School</td>\n",
       "      <td>Abim</td>\n",
       "      <td>4</td>\n",
       "      <td>42</td>\n",
       "    </tr>\n",
       "    <tr>\n",
       "      <th>3</th>\n",
       "      <td>Rogom P.7 School</td>\n",
       "      <td>Abim</td>\n",
       "      <td>6</td>\n",
       "      <td>56</td>\n",
       "    </tr>\n",
       "    <tr>\n",
       "      <th>4</th>\n",
       "      <td>Oreta P.7 School</td>\n",
       "      <td>Abim</td>\n",
       "      <td>1</td>\n",
       "      <td>48</td>\n",
       "    </tr>\n",
       "  </tbody>\n",
       "</table>\n",
       "</div>"
      ],
      "text/plain": [
       "                  School District Division1  Pupils\n",
       "0   Aywee Primary School     Abim         1      36\n",
       "1       Awach P.7 School     Abim         2      52\n",
       "2  Biyaya Primary School     Abim         4      42\n",
       "3       Rogom P.7 School     Abim         6      56\n",
       "4       Oreta P.7 School     Abim         1      48"
      ]
     },
     "execution_count": 4,
     "metadata": {},
     "output_type": "execute_result"
    }
   ],
   "source": [
    "df = pd.read_csv('df_cleaned')\n",
    "df.head()"
   ]
  },
  {
   "cell_type": "code",
   "execution_count": 5,
   "id": "6e977352",
   "metadata": {},
   "outputs": [
    {
     "name": "stdout",
     "output_type": "stream",
     "text": [
      "<class 'pandas.core.frame.DataFrame'>\n",
      "RangeIndex: 4400 entries, 0 to 4399\n",
      "Data columns (total 4 columns):\n",
      " #   Column     Non-Null Count  Dtype \n",
      "---  ------     --------------  ----- \n",
      " 0   School     4400 non-null   object\n",
      " 1   District   4400 non-null   object\n",
      " 2   Division1  4400 non-null   object\n",
      " 3   Pupils     4400 non-null   int64 \n",
      "dtypes: int64(1), object(3)\n",
      "memory usage: 137.6+ KB\n"
     ]
    }
   ],
   "source": [
    "# summary details of the data\n",
    "df.info()"
   ]
  },
  {
   "cell_type": "markdown",
   "id": "d9fac075",
   "metadata": {},
   "source": [
    "All columns are objects ie strings except pupils which is an integer"
   ]
  },
  {
   "cell_type": "code",
   "execution_count": 9,
   "id": "80c7f94e",
   "metadata": {},
   "outputs": [
    {
     "data": {
      "text/plain": [
       "4400"
      ]
     },
     "execution_count": 9,
     "metadata": {},
     "output_type": "execute_result"
    }
   ],
   "source": [
    "#how many schools sat exams on that year\n",
    "len(df['School'])"
   ]
  },
  {
   "cell_type": "code",
   "execution_count": 11,
   "id": "7bcac273",
   "metadata": {},
   "outputs": [
    {
     "data": {
      "text/plain": [
       "149"
      ]
     },
     "execution_count": 11,
     "metadata": {},
     "output_type": "execute_result"
    }
   ],
   "source": [
    "#how many districts took part\n",
    "len(df['District'].unique())"
   ]
  },
  {
   "cell_type": "code",
   "execution_count": 12,
   "id": "26658fc9",
   "metadata": {},
   "outputs": [
    {
     "data": {
      "text/plain": [
       "array(['1', '2', '4', '6', '21', '5', '36', '43', '3', '8', '9', '13',\n",
       "       '7', '10', '14', '11', '17', '12', '15', '31', '45', '32', '33',\n",
       "       '20', '28', '22', '64', '25', '18', 'Buikwe', '24', '35', '42',\n",
       "       '62', '59', '68', '29', '53', '30', '40', '26', '39', '55', '51',\n",
       "       '56', '58', '84', '57', '38', '16', '34', 'Butambala', '19', '27',\n",
       "       '60', '80', '37', 'Hoima', '50', '63', '78', 'Jinja', '23', '44',\n",
       "       '94', '70', '77', '79', '46', '52', 'Kabarole', 'Kampala', '108',\n",
       "       '130', '88', '75', '41', '82', '71', '54', '74', '67', '99', '61',\n",
       "       '132', '125', '201', '83', '98', '233', '134', '124', '123',\n",
       "       'Kamuli', '73', 'Kasese', 'Kibaale', 'Kisoro', '107', '126',\n",
       "       'Manafwa', 'Masaka', '161', 'Masindi', '112', 'Mayuge', 'Mbarara',\n",
       "       '66', '48', '65', '293', '72', 'Mityana', '147', '143', '128',\n",
       "       '69', '91', 'Rubirizi', '163', 'Tororo', '47', 'Wakiso', '49',\n",
       "       '127', '102', '90', '100', '142', '111', '81'], dtype=object)"
      ]
     },
     "execution_count": 12,
     "metadata": {},
     "output_type": "execute_result"
    }
   ],
   "source": [
    "#total number of division 1\n",
    "df['Division1'].unique()"
   ]
  },
  {
   "cell_type": "markdown",
   "id": "c4b441fb",
   "metadata": {},
   "source": [
    "as noticed there are some string values yet its supposed to be integer \n",
    "so lets convert them to numeric "
   ]
  },
  {
   "cell_type": "code",
   "execution_count": 16,
   "id": "b0d98cfe",
   "metadata": {},
   "outputs": [],
   "source": [
    "df['Division1'] = pd.to_numeric(df['Division1'],errors='coerce')"
   ]
  },
  {
   "cell_type": "markdown",
   "id": "ab294eca",
   "metadata": {},
   "source": [
    "Using errors='coerce'. It will replace all non-numeric values with NaN."
   ]
  },
  {
   "cell_type": "code",
   "execution_count": 18,
   "id": "d98229c4",
   "metadata": {},
   "outputs": [
    {
     "data": {
      "text/plain": [
       "array([  1.,   2.,   4.,   6.,  21.,   5.,  36.,  43.,   3.,   8.,   9.,\n",
       "        13.,   7.,  10.,  14.,  11.,  17.,  12.,  15.,  31.,  45.,  32.,\n",
       "        33.,  20.,  28.,  22.,  64.,  25.,  18.,  nan,  24.,  35.,  42.,\n",
       "        62.,  59.,  68.,  29.,  53.,  30.,  40.,  26.,  39.,  55.,  51.,\n",
       "        56.,  58.,  84.,  57.,  38.,  16.,  34.,  19.,  27.,  60.,  80.,\n",
       "        37.,  50.,  63.,  78.,  23.,  44.,  94.,  70.,  77.,  79.,  46.,\n",
       "        52., 108., 130.,  88.,  75.,  41.,  82.,  71.,  54.,  74.,  67.,\n",
       "        99.,  61., 132., 125., 201.,  83.,  98., 233., 134., 124., 123.,\n",
       "        73., 107., 126., 161., 112.,  66.,  48.,  65., 293.,  72., 147.,\n",
       "       143., 128.,  69.,  91., 163.,  47.,  49., 127., 102.,  90., 100.,\n",
       "       142., 111.,  81.])"
      ]
     },
     "execution_count": 18,
     "metadata": {},
     "output_type": "execute_result"
    }
   ],
   "source": [
    "df['Division1'].unique()"
   ]
  },
  {
   "cell_type": "code",
   "execution_count": 19,
   "id": "138c530c",
   "metadata": {},
   "outputs": [
    {
     "data": {
      "text/plain": [
       "39452.0"
      ]
     },
     "execution_count": 19,
     "metadata": {},
     "output_type": "execute_result"
    }
   ],
   "source": [
    "df['Division1'].sum()"
   ]
  },
  {
   "cell_type": "code",
   "execution_count": 21,
   "id": "e5691373",
   "metadata": {},
   "outputs": [
    {
     "data": {
      "text/plain": [
       "62.34"
      ]
     },
     "execution_count": 21,
     "metadata": {},
     "output_type": "execute_result"
    }
   ],
   "source": [
    "#mean average pupils\n",
    "round(df['Pupils'].mean(),2)"
   ]
  },
  {
   "cell_type": "code",
   "execution_count": 23,
   "id": "6484420a",
   "metadata": {},
   "outputs": [
    {
     "data": {
      "text/plain": [
       "District\n",
       " Buddo         0.0\n",
       " Bugembe       0.0\n",
       " Kawanda       0.0\n",
       " Kisimu        0.0\n",
       " Masindi       0.0\n",
       "             ...  \n",
       "Wakiso      6207.0\n",
       "Yumbe         36.0\n",
       "Zombo         52.0\n",
       "kooki          0.0\n",
       "kyegegwa       2.0\n",
       "Name: Division1, Length: 149, dtype: float64"
      ]
     },
     "execution_count": 23,
     "metadata": {},
     "output_type": "execute_result"
    }
   ],
   "source": [
    "#district with highest number of division 1\n",
    "df.groupby('District').sum()['Division1']"
   ]
  },
  {
   "cell_type": "code",
   "execution_count": 25,
   "id": "f1697752",
   "metadata": {},
   "outputs": [
    {
     "data": {
      "text/plain": [
       "'Wakiso'"
      ]
     },
     "execution_count": 25,
     "metadata": {},
     "output_type": "execute_result"
    }
   ],
   "source": [
    "df.groupby('District').sum()['Division1'].idxmax() #idxmax = index max"
   ]
  },
  {
   "cell_type": "code",
   "execution_count": 26,
   "id": "9006c02d",
   "metadata": {},
   "outputs": [
    {
     "data": {
      "text/plain": [
       "School    wairaka PS\n",
       "Pupils           602\n",
       "dtype: object"
      ]
     },
     "execution_count": 26,
     "metadata": {},
     "output_type": "execute_result"
    }
   ],
   "source": [
    "#school with highest number of pupils\n",
    "df[['School','Pupils']].max()"
   ]
  },
  {
   "cell_type": "code",
   "execution_count": 35,
   "id": "169de170",
   "metadata": {},
   "outputs": [
    {
     "data": {
      "text/html": [
       "<div>\n",
       "<style scoped>\n",
       "    .dataframe tbody tr th:only-of-type {\n",
       "        vertical-align: middle;\n",
       "    }\n",
       "\n",
       "    .dataframe tbody tr th {\n",
       "        vertical-align: top;\n",
       "    }\n",
       "\n",
       "    .dataframe thead th {\n",
       "        text-align: right;\n",
       "    }\n",
       "</style>\n",
       "<table border=\"1\" class=\"dataframe\">\n",
       "  <thead>\n",
       "    <tr style=\"text-align: right;\">\n",
       "      <th></th>\n",
       "      <th>School</th>\n",
       "      <th>District</th>\n",
       "      <th>Division1</th>\n",
       "      <th>Pupils</th>\n",
       "    </tr>\n",
       "  </thead>\n",
       "  <tbody>\n",
       "    <tr>\n",
       "      <th>893</th>\n",
       "      <td>Holy Rosary P.7 School</td>\n",
       "      <td>Gulu</td>\n",
       "      <td>10.0</td>\n",
       "      <td>602</td>\n",
       "    </tr>\n",
       "  </tbody>\n",
       "</table>\n",
       "</div>"
      ],
      "text/plain": [
       "                     School District  Division1  Pupils\n",
       "893  Holy Rosary P.7 School     Gulu       10.0     602"
      ]
     },
     "execution_count": 35,
     "metadata": {},
     "output_type": "execute_result"
    }
   ],
   "source": [
    "df[df['Pupils'] == 602]"
   ]
  },
  {
   "cell_type": "code",
   "execution_count": 27,
   "id": "dcbd5e6a",
   "metadata": {},
   "outputs": [
    {
     "data": {
      "text/plain": [
       "District    kyegegwa\n",
       "Pupils           602\n",
       "dtype: object"
      ]
     },
     "execution_count": 27,
     "metadata": {},
     "output_type": "execute_result"
    }
   ],
   "source": [
    "#district with highest number of pupils\n",
    "df[['District','Pupils']].max()"
   ]
  },
  {
   "cell_type": "code",
   "execution_count": 28,
   "id": "8d120819",
   "metadata": {},
   "outputs": [
    {
     "data": {
      "text/html": [
       "<div>\n",
       "<style scoped>\n",
       "    .dataframe tbody tr th:only-of-type {\n",
       "        vertical-align: middle;\n",
       "    }\n",
       "\n",
       "    .dataframe tbody tr th {\n",
       "        vertical-align: top;\n",
       "    }\n",
       "\n",
       "    .dataframe thead th {\n",
       "        text-align: right;\n",
       "    }\n",
       "</style>\n",
       "<table border=\"1\" class=\"dataframe\">\n",
       "  <thead>\n",
       "    <tr style=\"text-align: right;\">\n",
       "      <th></th>\n",
       "      <th>School</th>\n",
       "      <th>District</th>\n",
       "      <th>Division1</th>\n",
       "      <th>Pupils</th>\n",
       "    </tr>\n",
       "  </thead>\n",
       "  <tbody>\n",
       "    <tr>\n",
       "      <th>2451</th>\n",
       "      <td>Nyabyerima P/S</td>\n",
       "      <td>kyegegwa</td>\n",
       "      <td>1.0</td>\n",
       "      <td>30</td>\n",
       "    </tr>\n",
       "    <tr>\n",
       "      <th>2452</th>\n",
       "      <td>Kyaka Parents P/S</td>\n",
       "      <td>kyegegwa</td>\n",
       "      <td>1.0</td>\n",
       "      <td>30</td>\n",
       "    </tr>\n",
       "  </tbody>\n",
       "</table>\n",
       "</div>"
      ],
      "text/plain": [
       "                 School  District  Division1  Pupils\n",
       "2451     Nyabyerima P/S  kyegegwa        1.0      30\n",
       "2452  Kyaka Parents P/S  kyegegwa        1.0      30"
      ]
     },
     "execution_count": 28,
     "metadata": {},
     "output_type": "execute_result"
    }
   ],
   "source": [
    "#dive into kyegegwa\n",
    "df[df['District'] == 'kyegegwa']"
   ]
  },
  {
   "cell_type": "code",
   "execution_count": 32,
   "id": "91a0af55",
   "metadata": {},
   "outputs": [
    {
     "data": {
      "text/html": [
       "<div>\n",
       "<style scoped>\n",
       "    .dataframe tbody tr th:only-of-type {\n",
       "        vertical-align: middle;\n",
       "    }\n",
       "\n",
       "    .dataframe tbody tr th {\n",
       "        vertical-align: top;\n",
       "    }\n",
       "\n",
       "    .dataframe thead th {\n",
       "        text-align: right;\n",
       "    }\n",
       "</style>\n",
       "<table border=\"1\" class=\"dataframe\">\n",
       "  <thead>\n",
       "    <tr style=\"text-align: right;\">\n",
       "      <th></th>\n",
       "      <th>School</th>\n",
       "      <th>District</th>\n",
       "      <th>Division1</th>\n",
       "      <th>Pupils</th>\n",
       "    </tr>\n",
       "  </thead>\n",
       "  <tbody>\n",
       "    <tr>\n",
       "      <th>0</th>\n",
       "      <td>Aywee Primary School</td>\n",
       "      <td>Abim</td>\n",
       "      <td>1.0</td>\n",
       "      <td>36</td>\n",
       "    </tr>\n",
       "    <tr>\n",
       "      <th>2</th>\n",
       "      <td>Biyaya Primary School</td>\n",
       "      <td>Abim</td>\n",
       "      <td>4.0</td>\n",
       "      <td>42</td>\n",
       "    </tr>\n",
       "    <tr>\n",
       "      <th>4</th>\n",
       "      <td>Oreta P.7 School</td>\n",
       "      <td>Abim</td>\n",
       "      <td>1.0</td>\n",
       "      <td>48</td>\n",
       "    </tr>\n",
       "  </tbody>\n",
       "</table>\n",
       "</div>"
      ],
      "text/plain": [
       "                  School District  Division1  Pupils\n",
       "0   Aywee Primary School     Abim        1.0      36\n",
       "2  Biyaya Primary School     Abim        4.0      42\n",
       "4       Oreta P.7 School     Abim        1.0      48"
      ]
     },
     "execution_count": 32,
     "metadata": {},
     "output_type": "execute_result"
    }
   ],
   "source": [
    "#dataset for schools in abim whose number of pupils is less than 50\n",
    "df[(df['District'] == 'Abim')& (df['Pupils'] < 50)]"
   ]
  },
  {
   "cell_type": "markdown",
   "id": "ce97508a",
   "metadata": {},
   "source": [
    "# VISUALIZATION"
   ]
  },
  {
   "cell_type": "code",
   "execution_count": 37,
   "id": "90c0a768",
   "metadata": {},
   "outputs": [],
   "source": [
    "import matplotlib.pyplot as plt\n",
    "import seaborn as sns"
   ]
  },
  {
   "cell_type": "code",
   "execution_count": 41,
   "id": "cbefa641",
   "metadata": {},
   "outputs": [
    {
     "data": {
      "text/plain": [
       "1.0      1233\n",
       "2.0       630\n",
       "3.0       347\n",
       "4.0       295\n",
       "5.0       204\n",
       "         ... \n",
       "111.0       1\n",
       "161.0       1\n",
       "49.0        1\n",
       "163.0       1\n",
       "54.0        1\n",
       "Name: Division1, Length: 112, dtype: int64"
      ]
     },
     "execution_count": 41,
     "metadata": {},
     "output_type": "execute_result"
    }
   ],
   "source": [
    "#count the number of division 1\n",
    "df['Division1'].value_counts()"
   ]
  },
  {
   "cell_type": "code",
   "execution_count": 46,
   "id": "aa54e53e",
   "metadata": {},
   "outputs": [
    {
     "data": {
      "text/plain": [
       "Index(['School', 'District', 'Division1', 'Pupils'], dtype='object')"
      ]
     },
     "execution_count": 46,
     "metadata": {},
     "output_type": "execute_result"
    }
   ],
   "source": [
    "df.columns"
   ]
  },
  {
   "cell_type": "code",
   "execution_count": 56,
   "id": "606d4bde",
   "metadata": {},
   "outputs": [
    {
     "data": {
      "text/plain": [
       "array([[<AxesSubplot:title={'center':'Division1'}>,\n",
       "        <AxesSubplot:title={'center':'Pupils'}>]], dtype=object)"
      ]
     },
     "execution_count": 56,
     "metadata": {},
     "output_type": "execute_result"
    },
    {
     "data": {
      "image/png": "[encoded data removed]",
      "text/plain": [
       "<Figure size 432x288 with 2 Axes>"
      ]
     },
     "metadata": {
      "needs_background": "light"
     },
     "output_type": "display_data"
    }
   ],
   "source": [
    "kas = df[df['District'] == 'Kasese']\n",
    "kas.hist()"
   ]
  },
  {
   "cell_type": "code",
   "execution_count": 59,
   "id": "5a48b383",
   "metadata": {},
   "outputs": [
    {
     "data": {
      "text/plain": [
       "<AxesSubplot:>"
      ]
     },
     "execution_count": 59,
     "metadata": {},
     "output_type": "execute_result"
    },
    {
     "data": {
      "image/png": "[encoded data removed]",
      "text/plain": [
       "<Figure size 432x288 with 1 Axes>"
      ]
     },
     "metadata": {
      "needs_background": "light"
     },
     "output_type": "display_data"
    }
   ],
   "source": [
    "df.boxplot(column = ['Division1','Pupils'])"
   ]
  },
  {
   "cell_type": "code",
   "execution_count": 60,
   "id": "2078f0fa",
   "metadata": {},
   "outputs": [
    {
     "data": {
      "text/plain": [
       "Index(['School', 'District', 'Division1', 'Pupils'], dtype='object')"
      ]
     },
     "execution_count": 60,
     "metadata": {},
     "output_type": "execute_result"
    }
   ],
   "source": [
    "df.columns"
   ]
  },
  {
   "cell_type": "code",
   "execution_count": 61,
   "id": "af94a7f5",
   "metadata": {},
   "outputs": [
    {
     "data": {
      "text/html": [
       "<div>\n",
       "<style scoped>\n",
       "    .dataframe tbody tr th:only-of-type {\n",
       "        vertical-align: middle;\n",
       "    }\n",
       "\n",
       "    .dataframe tbody tr th {\n",
       "        vertical-align: top;\n",
       "    }\n",
       "\n",
       "    .dataframe thead th {\n",
       "        text-align: right;\n",
       "    }\n",
       "</style>\n",
       "<table border=\"1\" class=\"dataframe\">\n",
       "  <thead>\n",
       "    <tr style=\"text-align: right;\">\n",
       "      <th></th>\n",
       "      <th>Division1</th>\n",
       "      <th>Pupils</th>\n",
       "    </tr>\n",
       "  </thead>\n",
       "  <tbody>\n",
       "    <tr>\n",
       "      <th>Division1</th>\n",
       "      <td>1.000000</td>\n",
       "      <td>0.368297</td>\n",
       "    </tr>\n",
       "    <tr>\n",
       "      <th>Pupils</th>\n",
       "      <td>0.368297</td>\n",
       "      <td>1.000000</td>\n",
       "    </tr>\n",
       "  </tbody>\n",
       "</table>\n",
       "</div>"
      ],
      "text/plain": [
       "           Division1    Pupils\n",
       "Division1   1.000000  0.368297\n",
       "Pupils      0.368297  1.000000"
      ]
     },
     "execution_count": 61,
     "metadata": {},
     "output_type": "execute_result"
    }
   ],
   "source": [
    "df[['Division1','Pupils']].corr()"
   ]
  },
  {
   "cell_type": "code",
   "execution_count": 63,
   "id": "4aeefda4",
   "metadata": {},
   "outputs": [
    {
     "data": {
      "text/plain": [
       "<AxesSubplot:>"
      ]
     },
     "execution_count": 63,
     "metadata": {},
     "output_type": "execute_result"
    },
    {
     "data": {
      "image/png": "[encoded data removed]",
      "text/plain": [
       "<Figure size 432x288 with 2 Axes>"
      ]
     },
     "metadata": {
      "needs_background": "light"
     },
     "output_type": "display_data"
    }
   ],
   "source": [
    "cmap = sns.diverging_palette(220,10,as_cmap=True)\n",
    "sns.heatmap(df[['Division1','Pupils']].corr(),vmax=.3,\n",
    "                center=0,cmap=cmap,square=True,linewidths=.5,cbar_kws={\"shrink\": .3})\n",
    "\n"
   ]
  },
  {
   "cell_type": "code",
   "execution_count": 64,
   "id": "e9bf854d",
   "metadata": {},
   "outputs": [
    {
     "data": {
      "text/plain": [
       "<AxesSubplot:>"
      ]
     },
     "execution_count": 64,
     "metadata": {},
     "output_type": "execute_result"
    },
    {
     "data": {
      "image/png": "[encoded data removed]",
      "text/plain": [
       "<Figure size 360x360 with 2 Axes>"
      ]
     },
     "metadata": {
      "needs_background": "light"
     },
     "output_type": "display_data"
    }
   ],
   "source": [
    "#Visualize the correlation\n",
    "f,ax = plt.subplots(figsize=(5, 5))\n",
    "sns.heatmap(df.corr(), annot = True, fmt= '.2f')\n",
    "\n"
   ]
  },
  {
   "cell_type": "code",
   "execution_count": 65,
   "id": "ddfc0eb4",
   "metadata": {},
   "outputs": [],
   "source": [
    "df_cat = df[['Division1','Pupils']]"
   ]
  },
  {
   "cell_type": "code",
   "execution_count": 71,
   "id": "91c65530",
   "metadata": {},
   "outputs": [
    {
     "name": "stdout",
     "output_type": "stream",
     "text": [
      "graph for Division1: total = 112\n"
     ]
    },
    {
     "data": {
      "image/png": "[encoded data removed]",
      "text/plain": [
       "<Figure size 432x288 with 1 Axes>"
      ]
     },
     "metadata": {
      "needs_background": "light"
     },
     "output_type": "display_data"
    },
    {
     "name": "stdout",
     "output_type": "stream",
     "text": [
      "graph for Pupils: total = 251\n"
     ]
    },
    {
     "data": {
      "image/png": "[encoded data removed]",
      "text/plain": [
       "<Figure size 432x288 with 1 Axes>"
      ]
     },
     "metadata": {
      "needs_background": "light"
     },
     "output_type": "display_data"
    }
   ],
   "source": [
    "for i in df_cat.columns:\n",
    "    cat_num = df_cat[i].value_counts()\n",
    "    print(\"graph for %s: total = %d\" % (i,len(cat_num))) #string formating\n",
    "    chart = sns.barplot(x=cat_num.index, y=cat_num)\n",
    "    chart.set_xticklabels(chart.get_xticklabels(), rotation=90) #changing labels horizontal\n",
    "    plt.show()"
   ]
  },
  {
   "cell_type": "markdown",
   "id": "b7107620",
   "metadata": {},
   "source": [
    "the instances are many of y axis so you cant visually see the details"
   ]
  },
  {
   "cell_type": "code",
   "execution_count": 72,
   "id": "49297155",
   "metadata": {},
   "outputs": [
    {
     "data": {
      "text/html": [
       "<div>\n",
       "<style scoped>\n",
       "    .dataframe tbody tr th:only-of-type {\n",
       "        vertical-align: middle;\n",
       "    }\n",
       "\n",
       "    .dataframe tbody tr th {\n",
       "        vertical-align: top;\n",
       "    }\n",
       "\n",
       "    .dataframe thead th {\n",
       "        text-align: right;\n",
       "    }\n",
       "</style>\n",
       "<table border=\"1\" class=\"dataframe\">\n",
       "  <thead>\n",
       "    <tr style=\"text-align: right;\">\n",
       "      <th></th>\n",
       "      <th>Division1</th>\n",
       "    </tr>\n",
       "    <tr>\n",
       "      <th>Pupils</th>\n",
       "      <th></th>\n",
       "    </tr>\n",
       "  </thead>\n",
       "  <tbody>\n",
       "    <tr>\n",
       "      <th>2</th>\n",
       "      <td>1.0</td>\n",
       "    </tr>\n",
       "    <tr>\n",
       "      <th>7</th>\n",
       "      <td>1.0</td>\n",
       "    </tr>\n",
       "    <tr>\n",
       "      <th>9</th>\n",
       "      <td>10.0</td>\n",
       "    </tr>\n",
       "    <tr>\n",
       "      <th>11</th>\n",
       "      <td>18.0</td>\n",
       "    </tr>\n",
       "    <tr>\n",
       "      <th>12</th>\n",
       "      <td>7.0</td>\n",
       "    </tr>\n",
       "    <tr>\n",
       "      <th>...</th>\n",
       "      <td>...</td>\n",
       "    </tr>\n",
       "    <tr>\n",
       "      <th>374</th>\n",
       "      <td>108.0</td>\n",
       "    </tr>\n",
       "    <tr>\n",
       "      <th>380</th>\n",
       "      <td>130.0</td>\n",
       "    </tr>\n",
       "    <tr>\n",
       "      <th>388</th>\n",
       "      <td>40.0</td>\n",
       "    </tr>\n",
       "    <tr>\n",
       "      <th>406</th>\n",
       "      <td>31.0</td>\n",
       "    </tr>\n",
       "    <tr>\n",
       "      <th>602</th>\n",
       "      <td>10.0</td>\n",
       "    </tr>\n",
       "  </tbody>\n",
       "</table>\n",
       "<p>244 rows × 1 columns</p>\n",
       "</div>"
      ],
      "text/plain": [
       "        Division1\n",
       "Pupils           \n",
       "2             1.0\n",
       "7             1.0\n",
       "9            10.0\n",
       "11           18.0\n",
       "12            7.0\n",
       "...           ...\n",
       "374         108.0\n",
       "380         130.0\n",
       "388          40.0\n",
       "406          31.0\n",
       "602          10.0\n",
       "\n",
       "[244 rows x 1 columns]"
      ]
     },
     "execution_count": 72,
     "metadata": {},
     "output_type": "execute_result"
    }
   ],
   "source": [
    "pd.pivot_table(df, index = 'Pupils',values = 'Division1')"
   ]
  },
  {
   "cell_type": "code",
   "execution_count": 99,
   "id": "44cb67c0",
   "metadata": {},
   "outputs": [
    {
     "data": {
      "text/html": [
       "<div>\n",
       "<style scoped>\n",
       "    .dataframe tbody tr th:only-of-type {\n",
       "        vertical-align: middle;\n",
       "    }\n",
       "\n",
       "    .dataframe tbody tr th {\n",
       "        vertical-align: top;\n",
       "    }\n",
       "\n",
       "    .dataframe thead th {\n",
       "        text-align: right;\n",
       "    }\n",
       "</style>\n",
       "<table border=\"1\" class=\"dataframe\">\n",
       "  <thead>\n",
       "    <tr style=\"text-align: right;\">\n",
       "      <th></th>\n",
       "      <th>School</th>\n",
       "      <th>District</th>\n",
       "    </tr>\n",
       "  </thead>\n",
       "  <tbody>\n",
       "    <tr>\n",
       "      <th>0</th>\n",
       "      <td>Aywee Primary School</td>\n",
       "      <td>Abim</td>\n",
       "    </tr>\n",
       "    <tr>\n",
       "      <th>1</th>\n",
       "      <td>Awach P.7 School</td>\n",
       "      <td>Abim</td>\n",
       "    </tr>\n",
       "    <tr>\n",
       "      <th>2</th>\n",
       "      <td>Biyaya Primary School</td>\n",
       "      <td>Abim</td>\n",
       "    </tr>\n",
       "    <tr>\n",
       "      <th>3</th>\n",
       "      <td>Rogom P.7 School</td>\n",
       "      <td>Abim</td>\n",
       "    </tr>\n",
       "    <tr>\n",
       "      <th>4</th>\n",
       "      <td>Oreta P.7 School</td>\n",
       "      <td>Abim</td>\n",
       "    </tr>\n",
       "  </tbody>\n",
       "</table>\n",
       "</div>"
      ],
      "text/plain": [
       "                  School District\n",
       "0   Aywee Primary School     Abim\n",
       "1       Awach P.7 School     Abim\n",
       "2  Biyaya Primary School     Abim\n",
       "3       Rogom P.7 School     Abim\n",
       "4       Oreta P.7 School     Abim"
      ]
     },
     "execution_count": 99,
     "metadata": {},
     "output_type": "execute_result"
    }
   ],
   "source": [
    "df[['School','District']].head()"
   ]
  },
  {
   "cell_type": "code",
   "execution_count": 88,
   "id": "5a4c1687",
   "metadata": {},
   "outputs": [],
   "source": [
    "#word cloud\n",
    "import nltk\n",
    "from wordcloud import WordCloud,ImageColorGenerator,STOPWORDS\n",
    "from nltk.corpus import stopwords\n",
    "from nltk.tokenize import word_tokenize"
   ]
  },
  {
   "cell_type": "code",
   "execution_count": 102,
   "id": "12060925",
   "metadata": {},
   "outputs": [
    {
     "data": {
      "image/png": "[encoded data removed]",
      "text/plain": [
       "<Figure size 360x360 with 1 Axes>"
      ]
     },
     "metadata": {
      "needs_background": "light"
     },
     "output_type": "display_data"
    }
   ],
   "source": [
    "#words = \" \".join(kobe_data.text.drop_duplicates())\n",
    "words = \" \".join(df['District'])\n",
    "\n",
    "\n",
    "def punctuation_stop(text):\n",
    "    \"\"\"remove punctuation and stop words\"\"\"\n",
    "    filtered = []\n",
    "    stop_words = set(stopwords.words('english'))\n",
    "    word_tokens = word_tokenize(text)\n",
    "    for w in word_tokens:\n",
    "        if w not in stop_words and w.isalpha():\n",
    "            filtered.append(w.lower())\n",
    "    return filtered\n",
    "\n",
    "\n",
    "words_filtered = punctuation_stop(words)\n",
    "\n",
    "text  = \" \".join([ele for ele in words_filtered])\n",
    "\n",
    "wc = WordCloud(background_color=\"white\", random_state=1,  stopwords=STOPWORDS, max_words = 20,width = 800,height = 1500)\n",
    "wc.generate(text)\n",
    "\n",
    "plt.figure(figsize=[5,5])\n",
    "plt.imshow(wc,interpolation=\"bilinear\")\n",
    "plt.axis('off')\n",
    "plt.show()"
   ]
  },
  {
   "cell_type": "code",
   "execution_count": 104,
   "id": "de74449e",
   "metadata": {},
   "outputs": [
    {
     "data": {
      "image/png": "[encoded data removed]",
      "text/plain": [
       "<Figure size 288x288 with 1 Axes>"
      ]
     },
     "metadata": {
      "needs_background": "light"
     },
     "output_type": "display_data"
    }
   ],
   "source": [
    "#words = \" \".join(kobe_data.text.drop_duplicates())\n",
    "words = \" \".join(df['School'])\n",
    "\n",
    "\n",
    "def punctuation_stop(text):\n",
    "    \"\"\"remove punctuation and stop words\"\"\"\n",
    "    filtered = []\n",
    "    stop_words = set(stopwords.words('english'))\n",
    "    word_tokens = word_tokenize(text)\n",
    "    for w in word_tokens:\n",
    "        if w not in stop_words and w.isalpha():\n",
    "            filtered.append(w.lower())\n",
    "    return filtered\n",
    "\n",
    "\n",
    "words_filtered = punctuation_stop(words)\n",
    "\n",
    "text  = \" \".join([ele for ele in words_filtered])\n",
    "\n",
    "wc = WordCloud(background_color=\"white\", random_state=1,  stopwords=STOPWORDS, max_words = 20,width = 800,height = 1500)\n",
    "wc.generate(text)\n",
    "\n",
    "plt.figure(figsize=[4,4])\n",
    "plt.imshow(wc,interpolation=\"bilinear\")\n",
    "plt.axis('off')\n",
    "plt.show()"
   ]
  }
 ],
 "metadata": {
  "kernelspec": {
   "display_name": "Python 3",
   "language": "python",
   "name": "python3"
  },
  "language_info": {
   "codemirror_mode": {
    "name": "ipython",
    "version": 3
   },
   "file_extension": ".py",
   "mimetype": "text/x-python",
   "name": "python",
   "nbconvert_exporter": "python",
   "pygments_lexer": "ipython3",
   "version": "3.8.8"
  }
 },
 "nbformat": 4,
 "nbformat_minor": 5
}
